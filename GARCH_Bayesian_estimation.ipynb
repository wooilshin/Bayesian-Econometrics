{
 "cells": [
  {
   "cell_type": "markdown",
   "metadata": {},
   "source": [
    "<h1> GARCH Bayesian Estimation Workflow"
   ]
  },
  {
   "cell_type": "markdown",
   "metadata": {},
   "source": [
    "### GARCH(1,1) Model\n",
    "\n",
    "The conditional variance in a GARCH(1,1) model is expressed as:\n",
    "\n",
    "$\n",
    "\\sigma_t^2 = \\omega + \\alpha \\epsilon_{t-1}^2 + \\beta \\sigma_{t-1}^2\n",
    "\\$\n",
    "\n",
    "\n",
    "### Constraints:\n",
    "1. Stationarity:$\\alpha + \\beta < 1\\$\n",
    "\n",
    "2. Non-Negativity of Variance:$\\omega > 0, \\quad \\alpha > 0, \\quad \\beta > 0\\$\n"
   ]
  },
  {
   "cell_type": "markdown",
   "metadata": {},
   "source": [
    "<h1> Load and Prepare Data"
   ]
  },
  {
   "cell_type": "code",
   "execution_count": null,
   "metadata": {},
   "outputs": [],
   "source": [
    "data = pd.read_excel('Data.xlsx', sheet_name='GARCH')\n",
    "Date = data.iloc[4:, 0].values  # Extract date column\n",
    "stock_return = data.iloc[4:, 1].values  # Extract stock return column\n",
    "\n",
    "mask = ~np.isnan(stock_return)\n",
    "Y = stock_return[mask]\n",
    "Date = Date[mask]"
   ]
  },
  {
   "cell_type": "markdown",
   "metadata": {},
   "source": [
    "<h1> Initial Parameter set up"
   ]
  },
  {
   "cell_type": "code",
   "execution_count": null,
   "metadata": {},
   "outputs": [],
   "source": [
    " # Specifications\n",
    " # \n",
    "    Spec = {\n",
    "        \"MH\": 1,\n",
    "        \"nu\": 30,\n",
    "        \"theta_\": np.array([0.01, 0.05, 0.90]),  # This vector specifies the prior mean for the GARCH parameters (𝜔,𝛼,𝛽)\n",
    "        \"thetav_\": 0.0025 * np.ones(3), # This vector specifies the variance (or uncertainty) of the prior distributions for the GARCH parameters.\n",
    "        \"Y\": Y,\n",
    "    }\n",
    "\n",
    "    theta_hat = np.array([0.01, 0.05, 0.90, np.log(0.01 / (1 - 0.05 - 0.90))])\n",
    "    V = np.eye(len(theta_hat)) * 0.0025"
   ]
  },
  {
   "cell_type": "markdown",
   "metadata": {},
   "source": [
    "<h1> Run MCMC"
   ]
  },
  {
   "cell_type": "code",
   "execution_count": null,
   "metadata": {},
   "outputs": [],
   "source": [
    "n0, n1, freq = 2000, 20000, 500\n",
    "    MHm, acceptance_rate = MCMC(lnpost, paramconst, n0, n1, theta_hat, V, freq, Spec)\n",
    "\n",
    "    print(f\"Acceptance Rate: {acceptance_rate:.2%}\")"
   ]
  },
  {
   "cell_type": "markdown",
   "metadata": {},
   "source": [
    "<h1> Simulate "
   ]
  },
  {
   "cell_type": "code",
   "execution_count": null,
   "metadata": {},
   "outputs": [],
   "source": [
    "# Simulate volatility and forecasts\n",
    "    Volm = np.zeros((n1, len(Y)))\n",
    "    Yfm = np.zeros(n1)\n",
    "\n",
    "    for iter in range(n1):\n",
    "        theta = MHm[iter, :]\n",
    "        _, Vol = Kalman(theta, Y)\n",
    "        Volm[iter, :] = Vol\n",
    "        Yfm[iter] = Gen_Forecast(theta, Y, Vol)\n"
   ]
  },
  {
   "cell_type": "markdown",
   "metadata": {},
   "source": [
    "<h1> VaR and Expected Shortfall"
   ]
  },
  {
   "cell_type": "code",
   "execution_count": null,
   "metadata": {},
   "outputs": [],
   "source": [
    "    VaR = np.quantile(Yfm, 0.05)\n",
    "    ES = np.mean(Yfm[Yfm < VaR])\n",
    "    print(f\"VaR: {VaR:.4f}, ES: {ES:.4f}\")\n",
    "\n",
    "    # Plot results\n",
    "    plt.figure(figsize=(10, 6))\n",
    "    plt.plot(np.abs(Y), label='Absolute Return')\n",
    "    plt.plot(Volm.mean(axis=0), label='Volatility')\n",
    "    plt.legend()\n",
    "    plt.title(\"Volatility and Absolute Return\")\n",
    "    plt.show()\n",
    "\n",
    "    return MHm, Volm, Yfm\n"
   ]
  },
  {
   "cell_type": "code",
   "execution_count": null,
   "metadata": {},
   "outputs": [],
   "source": []
  },
  {
   "cell_type": "markdown",
   "metadata": {},
   "source": [
    "<h1> Functions used above"
   ]
  },
  {
   "cell_type": "markdown",
   "metadata": {},
   "source": [
    "<h1> Helper functions"
   ]
  },
  {
   "cell_type": "code",
   "execution_count": null,
   "metadata": {},
   "outputs": [],
   "source": [
    "# minc: Computes the minimum value of an array.\n",
    "\n",
    "def minc(arr):\n",
    "    return np.min(arr)\n",
    "\n",
    "# sumc: Computes the sum of an array.\n",
    "\n",
    "def sumc(arr):\n",
    "    return np.sum(arr)\n",
    "\n",
    "# lnpdfn: Computes the log of the normal distribution's PDF.\n",
    "\n",
    "def lnpdfn(x, mean, var):\n",
    "    return -0.5 * np.log(2 * np.pi * var) - 0.5 * ((x - mean) ** 2) / var\n"
   ]
  },
  {
   "cell_type": "markdown",
   "metadata": {},
   "source": [
    "<h1> Parameter constraints"
   ]
  },
  {
   "cell_type": "code",
   "execution_count": null,
   "metadata": {},
   "outputs": [],
   "source": [
    "# Ensures parameters satisfy GARCH constraints\n",
    "#\n",
    "# 1. Parameters must be finite.\n",
    "# 2. 𝜔,𝛼,𝛽>0\n",
    "# 3. 𝛼+𝛽<0.99\n",
    "\n",
    "def paramconst(theta, Spec):\n",
    "    validm = np.ones(30)  # Assume all constraints are valid initially\n",
    "\n",
    "    isfin = np.isfinite(theta)\n",
    "    validm[0] = minc(isfin) > 0.5  # Check if all parameters are finite\n",
    "\n",
    "    if validm[0] > 0:  # If parameters are finite\n",
    "        validm[1] = minc(theta[:3]) > 0  # Check positivity of ω, α, β\n",
    "        validm[2] = theta[1] + theta[2] < 0.99  # Stationarity condition\n",
    "\n",
    "    valid = minc(validm)  # If any condition fails, valid = 0\n",
    "    return valid, validm"
   ]
  },
  {
   "cell_type": "markdown",
   "metadata": {},
   "source": [
    "<h1> Log-prior, Log-likelihood, Lost-posterior</h1>"
   ]
  },
  {
   "cell_type": "code",
   "execution_count": null,
   "metadata": {},
   "outputs": [],
   "source": [
    "# lnprior: Encodes prior beliefs about the parameters:\n",
    "# Normal priors for 𝜔,𝛼,𝛽\n",
    "# A prior for the log of the long-run variance (eL2).\n",
    "\n",
    "def lnprior(theta, Spec):\n",
    "    theta_ = Spec[\"theta_\"]  # Prior mean\n",
    "    thetav_ = Spec[\"thetav_\"]  # Prior variance\n",
    "\n",
    "    # Prior for ω, α, β\n",
    "    priorj = lnpdfn(theta[:3], theta_, thetav_).sum()\n",
    "\n",
    "    # Prior for long-run variance\n",
    "    eL2_mean = theta[0] / (1 - theta[1] - theta[2])  # Long-run variance\n",
    "    priorj += lnpdfn(theta[3], np.log(eL2_mean), 0.0001)\n",
    "    return priorj\n",
    "\n",
    "\n",
    "# lnpost: Combines log-likelihood and log-prior to compute the log-posterior (lnpost(𝜃)=lnlik(𝜃)+lnprior(𝜃))\n",
    "\n",
    "def lnpost(theta, Spec):\n",
    "    lnlik0 = lnlik(theta, Spec)  # Log-likelihood\n",
    "    lnprior0 = lnprior(theta, Spec)  # Log-prior\n",
    "    return lnlik0 + lnprior0\n",
    "\n",
    "\n",
    "# lnlik: Uses the Kalman filter to compute the likelihood of observing the data given the parameters.\n",
    "\n",
    "def lnlik(theta, Spec):\n",
    "    Y = Spec[\"Y\"]  # Observed data\n",
    "    lnL, _ = Kalman(theta, Y)  # Log-likelihood from Kalman filter\n",
    "    return lnL\n",
    "\n",
    "# Kalman Filter here simulates GARCH volatility and computes the log-likelihood for a time series.\n",
    "# The Kalman filter is often used in state-space models, which represent the system in terms of latent states. \n",
    "# In this context, the GARCH model's variance can be treated as a latent state that evolves over time.\n",
    "# The Kalman filter helps estimate the latent state, compute the log-likelihood. \n",
    "\n",
    "\n",
    "def Kalman(theta, ym):\n",
    "    T = len(ym)\n",
    "    a0, a1, gam1 = theta[:3]\n",
    "    e_L2 = np.exp(theta[3])\n",
    "\n",
    "    lnLm = np.zeros(T)  # Log-likelihood components\n",
    "    Volm = np.zeros(T)  # Volatility components\n",
    "\n",
    "    sig2_L = a0 / (1 - a1 - gam1)  # Long-run variance\n",
    "    e_L = np.sqrt(e_L2)\n",
    "\n",
    "    for t in range(T):\n",
    "        yt = ym[t]\n",
    "        sig2t = a0 + a1 * e_L**2 + gam1 * sig2_L  # Conditional variance\n",
    "        lnLm[t] = lnpdfn(yt, 0, sig2t)  # Log-likelihood contribution\n",
    "        Volm[t] = np.sqrt(sig2t)\n",
    "        e_L = yt  # Update residual\n",
    "        sig2_L = sig2t  # Update variance\n",
    "\n",
    "    lnL = sumc(lnLm)\n",
    "    return lnL, Volm\n",
    "\n"
   ]
  }
 ],
 "metadata": {
  "kernelspec": {
   "display_name": "Python 3 (ipykernel)",
   "language": "python",
   "name": "python3"
  },
  "language_info": {
   "codemirror_mode": {
    "name": "ipython",
    "version": 3
   },
   "file_extension": ".py",
   "mimetype": "text/x-python",
   "name": "python",
   "nbconvert_exporter": "python",
   "pygments_lexer": "ipython3",
   "version": "3.12.7"
  }
 },
 "nbformat": 4,
 "nbformat_minor": 4
}
