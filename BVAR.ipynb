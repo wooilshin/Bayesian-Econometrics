{
 "cells": [
  {
   "cell_type": "markdown",
   "metadata": {},
   "source": [
    "<h1> Bayesian VAR estimation"
   ]
  },
  {
   "cell_type": "markdown",
   "metadata": {},
   "source": [
    "## Structural Form Equation\n",
    "\n",
    "$\\\n",
    "B y_t = \\Gamma y_{t-1} + e_t\n",
    "$\n",
    "\n",
    "This represents a structural vector autoregressive (VAR) model, where matrix is:\n",
    "\n",
    "$\\\n",
    "B =\n",
    "\\begin{bmatrix}\n",
    "b_{11} & b_{12} \\\\\n",
    "b_{21} & b_{22}\n",
    "\\end{bmatrix}, \\quad\n",
    "\\Gamma =\n",
    "\\begin{bmatrix}\n",
    "\\gamma_{11} & \\gamma_{12} \\\\\n",
    "\\gamma_{21} & \\gamma_{22}\n",
    "\\end{bmatrix}\n",
    "$\n",
    "\n",
    "## Reduced Form Equation\n",
    "\n",
    "By multiplying both sides of the structural equation by $\\ B^{-1} $ :\n",
    "\n",
    "$\\\n",
    "y_t = B^{-1} \\Gamma y_{t-1} + B^{-1} e_t\n",
    "$\n",
    "\n",
    "This simplifies to:\n",
    "\n",
    "$\\\n",
    "y_t = \\Phi y_{t-1} + u_t\n",
    "$\n",
    "\n",
    "Where $ \\ u_t = B^{-1} e_t $ is reduced-form shock\n"
   ]
  },
  {
   "cell_type": "code",
   "execution_count": null,
   "metadata": {},
   "outputs": [],
   "source": []
  },
  {
   "cell_type": "markdown",
   "metadata": {},
   "source": [
    "<h1> Load and Prepare Data"
   ]
  },
  {
   "cell_type": "code",
   "execution_count": null,
   "metadata": {},
   "outputs": [],
   "source": [
    "data = pd.read_excel('Data.xlsx', sheet_name='VAR', usecols='A:C', skiprows=1).to_numpy()\n",
    "def demean_data(data):\n",
    "    return data - np.mean(data, axis=0)\n",
    "\n",
    "Y = demean_data(data)\n",
    "k = Y.shape[1]"
   ]
  },
  {
   "cell_type": "markdown",
   "metadata": {},
   "source": [
    "<h1> Define MCMC Parameters"
   ]
  },
  {
   "cell_type": "code",
   "execution_count": null,
   "metadata": {},
   "outputs": [],
   "source": [
    "n0 = 500  # Burn-in size\n",
    "n1 = 2000  # MCMC sample size after burn-in\n",
    "n = n0 + n1"
   ]
  },
  {
   "cell_type": "markdown",
   "metadata": {},
   "source": [
    "<h1> Setting Priors"
   ]
  },
  {
   "cell_type": "code",
   "execution_count": null,
   "metadata": {},
   "outputs": [],
   "source": [
    "# nu: Degrees of freedom for the prior on the residual covariance matrix \n",
    "# R0: Prior for the precision matrix \n",
    "\n",
    "nu = 10\n",
    "R0 = inv(0.2 * np.eye(k)) / nu\n",
    "\n",
    "\n",
    "\n",
    "# Priors for coefficients\n",
    "\n",
    "pkk = p * k * k\n",
    "b_ = np.zeros(pkk)  # Prior mean for vec phi(Φ),\n",
    "var_ = np.eye(pkk)  # Prior variance for vec(Φ)\n",
    "\n",
    "# Combine\n",
    "\n",
    "Spec = {\n",
    "    'b_': b_,\n",
    "    'var_': var_,\n",
    "    'p': p,\n",
    "    'nu': nu,\n",
    "    'R0': R0,\n",
    "    'Y': Y,\n",
    "    'mlag': mlag\n",
    "}"
   ]
  },
  {
   "cell_type": "markdown",
   "metadata": {},
   "source": [
    "<h1> Recursive VAR function"
   ]
  },
  {
   "cell_type": "markdown",
   "metadata": {},
   "source": [
    "### In Bayesian VAR \n",
    "\n",
    "The posterior distributions for parameters:\n",
    "\n",
    "- Autoregressive coefficients $ \\Phi $\n",
    "- Covariance matrix $ \\Sigma_u $\n",
    "\n",
    "If we assume **normal priors** for $ \\Phi $ and **inverse-Wishart priors** for $ \\Sigma_u $, their posterior distributions are **known and tractable**.\n",
    "\n",
    "The inverse-Wishart prior is a standard choice for covariance matrices because it is conjugate to the multivariate normal likelihood.\n",
    "\n",
    "Conjugacy ensures the posterior for $ \\Sigma_u $ is also inverse-Wishart, making computations tractable.\n",
    "\n",
    "MCMC algorithms can sample directly from these conditional distributions without explicitly calculating the likelihood.\n"
   ]
  },
  {
   "cell_type": "code",
   "execution_count": null,
   "metadata": {},
   "outputs": [],
   "source": [
    "# Define Recursive VAR Function\n",
    "def recursive_var(n0, n1, spec):\n",
    "    \"\"\"\n",
    "    Function to estimate SVAR parameters using MCMC and compute impulse responses.\n",
    "    \"\"\"\n",
    "    # Extract variables from spec\n",
    "    Y = spec['Y']\n",
    "    p = spec['p']\n",
    "    k = Y.shape[1]  # Number of variables\n",
    "    T = Y.shape[0]  # Number of observations\n",
    "    \n",
    "    # Prepare lagged Y matrix (X) and target Y (endogenous variables)\n",
    "    X = np.hstack([Y[p - lag - 1:-lag - 1] for lag in range(p)])\n",
    "    Y_target = Y[p:]  # Drop the first p rows\n",
    "    \n",
    "    # Reduced-form VAR estimation (OLS for initialization)\n",
    "    B_hat = np.linalg.lstsq(X, Y_target, rcond=None)[0]  # OLS coefficients\n",
    "    residuals = Y_target - X @ B_hat\n",
    "    Sigma_u_hat = residuals.T @ residuals / (T - p)  # Residual covariance matrix\n",
    "    \n",
    "    # Cholesky decomposition for identification\n",
    "    B_chol = cholesky(Sigma_u_hat, lower=True)  # Structural matrix\n",
    "    \n",
    "    # Initialize MCMC samples\n",
    "    Phi_samples = []  # Autoregressive coefficients\n",
    "    Sigma_u_samples = []  # Covariance matrices\n",
    "    \n",
    "    # MCMC loop\n",
    "    for i in range(n0 + n1):\n",
    "        # Sample Phi (coefficients) conditional on Sigma_u\n",
    "        Sigma_u_inv = inv(Sigma_u_hat)\n",
    "        Phi_post_var = inv(np.kron(Sigma_u_inv, X.T @ X) + inv(spec['var_']))\n",
    "        Phi_post_mean = Phi_post_var @ (np.kron(Sigma_u_inv, X.T) @ Y_target.ravel() + inv(spec['var_']) @ spec['b_'])\n",
    "        Phi = np.random.multivariate_normal(Phi_post_mean, Phi_post_var)\n",
    "        \n",
    "        # Reshape Phi back to VAR coefficient matrix\n",
    "        Phi_matrix = Phi.reshape((k, p * k))\n",
    "        \n",
    "        # Sample Sigma_u (covariance matrix) conditional on Phi\n",
    "        resid = Y_target - X @ Phi_matrix.T\n",
    "        S = resid.T @ resid\n",
    "        Sigma_u_inv_post = inv(spec['R0'] + S)\n",
    "        Sigma_u = inv(np.random.wishart(df=spec['nu'] + T - p, scale=Sigma_u_inv_post))\n",
    "        \n",
    "        # Save post-burn-in samples\n",
    "        if i >= n0:\n",
    "            Phi_samples.append(Phi_matrix)\n",
    "            Sigma_u_samples.append(Sigma_u)\n",
    "    \n",
    "    # Compute Impulse Responses\n",
    "    impulse_responses = np.zeros((spec['mlag'], k, k))  # Horizon x Variables x Shocks\n",
    "    for lag in range(spec['mlag']):\n",
    "        Phi_cum = np.eye(k) if lag == 0 else Phi_samples[-1][:, :(lag * k)]\n",
    "        impulse_responses[lag] = Phi_cum @ B_chol\n",
    "    \n",
    "    return impulse_responses, {\"Phi_samples\": Phi_samples, \"Sigma_u_samples\": Sigma_u_samples}\n",
    "\n"
   ]
  },
  {
   "cell_type": "markdown",
   "metadata": {},
   "source": [
    "<h1> Run MCMC"
   ]
  },
  {
   "cell_type": "code",
   "execution_count": null,
   "metadata": {},
   "outputs": [],
   "source": [
    "start_time = time.time()\n",
    "ImpulseRespm, MHm = recursive_var(n0, n1, Spec)\n",
    "end_time = time.time()\n",
    "\n",
    "print(f\"Elapsed time: {end_time - start_time:.2f} seconds\")\n",
    "\n",
    "# Inspect results\n",
    "print(f\"Impulse Responses Shape: {ImpulseRespm.shape}\")"
   ]
  },
  {
   "cell_type": "code",
   "execution_count": null,
   "metadata": {},
   "outputs": [],
   "source": []
  }
 ],
 "metadata": {
  "kernelspec": {
   "display_name": "Python 3 (ipykernel)",
   "language": "python",
   "name": "python3"
  },
  "language_info": {
   "codemirror_mode": {
    "name": "ipython",
    "version": 3
   },
   "file_extension": ".py",
   "mimetype": "text/x-python",
   "name": "python",
   "nbconvert_exporter": "python",
   "pygments_lexer": "ipython3",
   "version": "3.12.7"
  }
 },
 "nbformat": 4,
 "nbformat_minor": 4
}
