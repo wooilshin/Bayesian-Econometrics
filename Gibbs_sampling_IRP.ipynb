{
 "cells": [
  {
   "cell_type": "markdown",
   "id": "a9d22950-9654-42e1-b06c-6b7e0b142e0a",
   "metadata": {},
   "source": [
    "<h1>Estimating Interest rate parity (Gibbs Sampling)<h1\\>"
   ]
  },
  {
   "cell_type": "markdown",
   "id": "770006af-0f32-4d25-b6c6-67201ca6d3e2",
   "metadata": {},
   "source": [
    "<h5>  To examine whether the uncovered interest rate parity (below) holds in reality<h5\\>\n",
    "\n",
    "\\begin{equation}\n",
    "\\frac{E_t(S_{t+1}) - S_t}{S_t} = i_t - i_t^*\n",
    "\\end{equation}\n",
    "\n",
    "We set up a linear regression model (below) with the change rate of the USD/KRW exchange rate as the dependent variable and the interest rate differential between Korean and US rates as the explanatory variable, using a Gibbs sampler for estimation.\n",
    "\n",
    "\\begin{equation}\n",
    "\\frac{S_{t+1} - S_t}{S_t} = a_1 + a_2 (i_t - i_t^*) + \\epsilon_t, \\quad \\epsilon_t | i_t - i_t^*, \\theta \\sim \\text{Normal}(0, \\sigma^2)\n",
    "\\end{equation}\n",
    "\n",
    "The notation $\n",
    "\\epsilon_t \\mid i_t - i_t^*, \\theta \\sim \\text{Normal}(0, \\sigma^2)\n",
    "$ means that the error term $\\epsilon_t$, conditional on the interest rate differential $ i_t - i_t^*$ and model parameters $ \\theta $, follows a normal distribution with mean zero and variance $\\sigma^2 $."
   ]
  },
  {
   "cell_type": "markdown",
   "id": "18ff6e3b-73f3-454d-9d9e-a327d91085f7",
   "metadata": {},
   "source": [
    "<h2>Load library<h2\\>"
   ]
  },
  {
   "cell_type": "code",
   "execution_count": 3,
   "id": "f3ca9c3e-14c6-422e-844f-707ba37c23b0",
   "metadata": {},
   "outputs": [],
   "source": [
    "import numpy as np\n",
    "import pandas as pd\n",
    "from scipy.stats import invgamma, multivariate_normal\n",
    "\n"
   ]
  },
  {
   "cell_type": "code",
   "execution_count": 4,
   "id": "86cbeadd-7ba1-43d4-b234-d347f1474423",
   "metadata": {},
   "outputs": [],
   "source": []
  },
  {
   "cell_type": "markdown",
   "id": "b48742ca-e005-4527-ad50-d76d09600188",
   "metadata": {},
   "source": [
    "<h2>Generate sample data<h2\\>"
   ]
  },
  {
   "cell_type": "code",
   "execution_count": 7,
   "id": "76955ade-bed8-420e-8b7f-4966c2b0f8a7",
   "metadata": {},
   "outputs": [],
   "source": [
    "# Set random seed\n",
    "np.random.seed(123)\n",
    "\n",
    "T = 100  # Sample size\n",
    "\n",
    "us_interest_rate = np.random.normal(1.5, 0.5, T)  # mean 1.5, sd 0.5, sample size T\n",
    "korean_interest_rate = np.random.normal(2.0, 0.5, T)\n",
    "exchange_rate_depreciation = korean_interest_rate - us_interest_rate + np.random.normal(0, 0.2, T)\n"
   ]
  },
  {
   "cell_type": "code",
   "execution_count": 8,
   "id": "9c74b557-deb0-4c07-aea7-ef9fd8268490",
   "metadata": {},
   "outputs": [],
   "source": [
    "# Data Preparation\n",
    "Y = exchange_rate_depreciation[1:]  # depreciation rate (take out 1st sample)\n",
    "X = korean_interest_rate[:-1] - us_interest_rate[:-1]  # interest rate differential (take out last sample)\n",
    "X = np.column_stack((np.ones(T - 1), X))  # this adds intercept column\n",
    "k = X.shape[1]                            # extracts number of columns in matrix"
   ]
  },
  {
   "cell_type": "code",
   "execution_count": null,
   "id": "bf498bd9-409b-44e0-a3df-654a627e62fc",
   "metadata": {},
   "outputs": [],
   "source": []
  },
  {
   "cell_type": "markdown",
   "id": "b6c06557-dbab-4e57-8e06-3c7c0bc147f0",
   "metadata": {},
   "source": [
    "<h2>Setting Prior Parameters<h2\\>"
   ]
  },
  {
   "cell_type": "markdown",
   "id": "1713b20b-945e-4413-908d-2d2a89761759",
   "metadata": {},
   "source": [
    "1. Prior distribution for $\\sigma^2$:\n",
    "\n",
    "\\begin{equation}\n",
    "\\sigma^2 \\sim \\text{InverseGamma} \\left( \\frac{\\alpha_0}{2} = \\frac{50}{2}, \\frac{\\delta_0}{2} = \\frac{1000 \\times \\alpha_0}{2} \\right)\n",
    "\\end{equation}\n",
    "\n",
    "2. Prior distribution for $\\beta | \\sigma^2$:\n",
    "\n",
    "\\begin{equation}\n",
    "\\beta | \\sigma^2 \\sim \\text{Normal} \\left( \\beta_0 = \\begin{bmatrix} 0 \\\\ 1 \\end{bmatrix}, B_0 = 25 \\times I_2 \\right)\n",
    "\\end{equation}"
   ]
  },
  {
   "cell_type": "code",
   "execution_count": null,
   "id": "9e4fb467-2bb1-4ffb-bcd9-e08a9b919db5",
   "metadata": {},
   "outputs": [],
   "source": [
    "# Priors (a_0 and d_0 are parameters for the variance of residuals)\n",
    "a_0 = 50         # shape parameter for inverse gamma distribution\n",
    "d_0 = 50000      # prior mean is set to be approximately around 1,000 \n",
    "b_0 = np.array([0, 1])  # prior mean for beta (reflecting the belief that UIRP usually holds)\n",
    "B_0 = 25 * np.eye(k)  # prior variance matrix for beta\n",
    "\n",
    "# MCMC parameters\n",
    "n0 = 500    # Burn-in period. The first n0 iterations are considered the burn-in, during which the sampler \"warms up\" and moves closer to the true posterior distribution\n",
    "n1 = 10000  # MCMC sample size"
   ]
  },
  {
   "cell_type": "markdown",
   "id": "508019a7-95b2-40e1-9946-389702038e6e",
   "metadata": {},
   "source": [
    "<h2>Gibbs sampling<h2\\>"
   ]
  },
  {
   "cell_type": "code",
   "execution_count": null,
   "id": "888da09d-3e09-4d4e-af35-7981e9d18d07",
   "metadata": {},
   "outputs": [],
   "source": [
    "# Gibbs Sampler\n",
    "def gibbs_linear_n(Y, X, b_0, B_0, a_0, d_0, n0, n1):\n",
    "    T, k = X.shape\n",
    "    B_0_inv = np.linalg.inv(B_0)\n",
    "    B_0_b_0 = B_0_inv @ b_0\n",
    "    bm = np.zeros((n1, k))  # Store beta samples\n",
    "    sig2m = np.zeros(n1)  # Store sigma^2 samples\n",
    "\n",
    "    # Initial values\n",
    "    beta = b_0\n",
    "    sigma2 = 1\n",
    "\n",
    "    for i in range(n0 + n1):\n",
    "        # Update beta conditional on sigma^2\n",
    "        B_n = np.linalg.inv(B_0_inv + (X.T @ X) / sigma2)\n",
    "        b_n = B_n @ (B_0_b_0 + (X.T @ Y) / sigma2)\n",
    "        beta = multivariate_normal.rvs(mean=b_n, cov=B_n)\n",
    "\n",
    "        # Update sigma^2 conditional on beta\n",
    "        resid = Y - X @ beta\n",
    "        a_n = a_0 + T / 2\n",
    "        d_n = d_0 + (resid.T @ resid) / 2\n",
    "        sigma2 = invgamma.rvs(a=a_n, scale=d_n)\n",
    "\n",
    "        if i >= n0:  # Store post burn-in samples\n",
    "            bm[i - n0] = beta\n",
    "            sig2m[i - n0] = sigma2\n",
    "\n",
    "    return bm, sig2m\n",
    "\n"
   ]
  },
  {
   "cell_type": "markdown",
   "id": "db93839f-50fd-405c-8c22-6ec11be19782",
   "metadata": {},
   "source": [
    "<h2>Running the Gibbs sampler<h2\\>"
   ]
  },
  {
   "cell_type": "code",
   "execution_count": null,
   "id": "5bfa5295-bf37-49d2-b68a-71b41229d079",
   "metadata": {},
   "outputs": [],
   "source": [
    "\n",
    "# bm and sig2m arrays hold the collected samples, representing 10,000 samples of beta and sigma^2. The stored samples form the MCMC sample\n",
    "bm, sig2m = gibbs_linear_n(Y, X, b_0, B_0, a_0, d_0, n0, n1)\n",
    "\n",
    "# Calculate posterior probability that the second coefficient is between 0.5 and 1.5\n",
    "indicator = (bm[:, 1] > 0.5) & (bm[:, 1] < 1.5)\n",
    "post_prob = np.mean(indicator)\n",
    "\n",
    "print(\"Posterior probability:\", post_prob)"
   ]
  },
  {
   "cell_type": "markdown",
   "id": "a880c36b-df88-411a-aa47-e052ec92f121",
   "metadata": {},
   "source": [
    "<h2>Running the Gibbs sampler<h2\\>"
   ]
  },
  {
   "cell_type": "code",
   "execution_count": 10,
   "id": "25fa5b8b-9841-488a-ab2f-f6512aa364d8",
   "metadata": {},
   "outputs": [],
   "source": [
    "# Conclusion of Practice Exercise: The posterior means, standard errors, and 95% credible intervals for $a_1$, $a_2$, $/sigma^2$\n",
    "# were estimated using Gibbs sampling. The credible intervals for include 0 and 1, respectively.\n",
    "# However, due to the wide range of these intervals, it is difficult to conclude that \n",
    "# the risk-neutral equilibrium hypothesis is statistically supported."
   ]
  },
  {
   "cell_type": "code",
   "execution_count": null,
   "id": "f1c4c5fd-8a2b-4226-b2f4-d61481b01128",
   "metadata": {},
   "outputs": [],
   "source": []
  }
 ],
 "metadata": {
  "kernelspec": {
   "display_name": "Python 3 (ipykernel)",
   "language": "python",
   "name": "python3"
  },
  "language_info": {
   "codemirror_mode": {
    "name": "ipython",
    "version": 3
   },
   "file_extension": ".py",
   "mimetype": "text/x-python",
   "name": "python",
   "nbconvert_exporter": "python",
   "pygments_lexer": "ipython3",
   "version": "3.11.7"
  }
 },
 "nbformat": 4,
 "nbformat_minor": 5
}
